{
 "cells": [
  {
   "cell_type": "markdown",
   "metadata": {},
   "source": [
    "# Script to calculate the IC50 for metronidazole tested on WB, C6NR, C6aI and C60.5 on 12_9_19, first plate"
   ]
  },
  {
   "cell_type": "code",
   "execution_count": 2,
   "metadata": {},
   "outputs": [],
   "source": [
    "#Import all needed modules\n",
    "import pandas as pd\n",
    "import numpy as np\n"
   ]
  },
  {
   "cell_type": "code",
   "execution_count": 9,
   "metadata": {},
   "outputs": [],
   "source": [
    "#Read in data from csv files\n",
    "dfa = pd.read_csv(\"MTZ_1.csv\")\n",
    "dfb = pd.read_csv(\"MTZ_2.csv\")\n",
    "dfc = pd.read_csv(\"MTZ_3.csv\")\n",
    "dfd = pd.read_csv(\"MTZ_4.csv\")\n",
    "dfe = pd.read_csv(\"MTZ_5.csv\")\n",
    "dff = pd.read_csv(\"MTZ_6.csv\")"
   ]
  },
  {
   "cell_type": "code",
   "execution_count": 19,
   "metadata": {},
   "outputs": [
    {
     "data": {
      "text/html": [
       "<div>\n",
       "<style scoped>\n",
       "    .dataframe tbody tr th:only-of-type {\n",
       "        vertical-align: middle;\n",
       "    }\n",
       "\n",
       "    .dataframe tbody tr th {\n",
       "        vertical-align: top;\n",
       "    }\n",
       "\n",
       "    .dataframe thead th {\n",
       "        text-align: right;\n",
       "    }\n",
       "</style>\n",
       "<table border=\"1\" class=\"dataframe\">\n",
       "  <thead>\n",
       "    <tr style=\"text-align: right;\">\n",
       "      <th></th>\n",
       "      <th>Conc</th>\n",
       "      <th>WB</th>\n",
       "      <th>C6NR</th>\n",
       "      <th>C60.5</th>\n",
       "      <th>C6aI</th>\n",
       "    </tr>\n",
       "  </thead>\n",
       "  <tbody>\n",
       "    <tr>\n",
       "      <th>0</th>\n",
       "      <td>1.000000e-20</td>\n",
       "      <td>100.000000</td>\n",
       "      <td>100.000000</td>\n",
       "      <td>100.000000</td>\n",
       "      <td>100.000000</td>\n",
       "    </tr>\n",
       "    <tr>\n",
       "      <th>1</th>\n",
       "      <td>1.000000e+00</td>\n",
       "      <td>99.251734</td>\n",
       "      <td>73.265998</td>\n",
       "      <td>100.925458</td>\n",
       "      <td>108.021023</td>\n",
       "    </tr>\n",
       "    <tr>\n",
       "      <th>2</th>\n",
       "      <td>2.000000e+00</td>\n",
       "      <td>98.088781</td>\n",
       "      <td>177.105854</td>\n",
       "      <td>103.138852</td>\n",
       "      <td>92.358653</td>\n",
       "    </tr>\n",
       "    <tr>\n",
       "      <th>3</th>\n",
       "      <td>5.000000e+00</td>\n",
       "      <td>60.134991</td>\n",
       "      <td>63.398714</td>\n",
       "      <td>105.412083</td>\n",
       "      <td>62.272727</td>\n",
       "    </tr>\n",
       "    <tr>\n",
       "      <th>4</th>\n",
       "      <td>1.000000e+01</td>\n",
       "      <td>21.216038</td>\n",
       "      <td>21.610210</td>\n",
       "      <td>102.579839</td>\n",
       "      <td>74.082861</td>\n",
       "    </tr>\n",
       "    <tr>\n",
       "      <th>5</th>\n",
       "      <td>2.000000e+01</td>\n",
       "      <td>3.528536</td>\n",
       "      <td>2.792801</td>\n",
       "      <td>71.973684</td>\n",
       "      <td>32.120720</td>\n",
       "    </tr>\n",
       "    <tr>\n",
       "      <th>6</th>\n",
       "      <td>5.000000e+01</td>\n",
       "      <td>0.654116</td>\n",
       "      <td>0.768783</td>\n",
       "      <td>24.205134</td>\n",
       "      <td>10.062029</td>\n",
       "    </tr>\n",
       "  </tbody>\n",
       "</table>\n",
       "</div>"
      ],
      "text/plain": [
       "           Conc          WB        C6NR       C60.5        C6aI\n",
       "0  1.000000e-20  100.000000  100.000000  100.000000  100.000000\n",
       "1  1.000000e+00   99.251734   73.265998  100.925458  108.021023\n",
       "2  2.000000e+00   98.088781  177.105854  103.138852   92.358653\n",
       "3  5.000000e+00   60.134991   63.398714  105.412083   62.272727\n",
       "4  1.000000e+01   21.216038   21.610210  102.579839   74.082861\n",
       "5  2.000000e+01    3.528536    2.792801   71.973684   32.120720\n",
       "6  5.000000e+01    0.654116    0.768783   24.205134   10.062029"
      ]
     },
     "execution_count": 19,
     "metadata": {},
     "output_type": "execute_result"
    }
   ],
   "source": [
    "dfa"
   ]
  },
  {
   "cell_type": "code",
   "execution_count": 20,
   "metadata": {},
   "outputs": [
    {
     "name": "stdout",
     "output_type": "stream",
     "text": [
      "            Conc          WB        C6NR       C60.5        C6aI\n",
      "0   1.000000e-20  100.000000  100.000000  100.000000  100.000000\n",
      "1   1.000000e+00   99.251734   73.265998  100.925458  108.021023\n",
      "2   2.000000e+00   98.088781  177.105854  103.138852   92.358653\n",
      "3   5.000000e+00   60.134991   63.398714  105.412083   62.272727\n",
      "4   1.000000e+01   21.216038   21.610210  102.579839   74.082861\n",
      "5   2.000000e+01    3.528536    2.792801   71.973684   32.120720\n",
      "6   5.000000e+01    0.654116    0.768783   24.205134   10.062029\n",
      "7   1.000000e-20  100.000000  100.000000  100.000000  100.000000\n",
      "8   1.000000e+00   94.196623   80.402156  110.698048   87.453542\n",
      "9   2.000000e+00   81.274970   83.336694  112.215806   88.885762\n",
      "10  5.000000e+00   52.438840   52.643669   99.808998   72.795806\n",
      "11  1.000000e+01   21.069679   22.707327  100.666777   67.552605\n",
      "12  2.000000e+01    3.581323    5.003678   57.254135   37.310370\n",
      "13  5.000000e+01    0.443004    0.537308   20.331556   10.039436\n",
      "14  1.000000e-20  100.000000  100.000000  100.000000  100.000000\n",
      "15  1.000000e+00   75.127682   88.236924   85.292079  102.286596\n",
      "16  2.000000e+00   78.782770   78.351825   87.716217   99.535156\n",
      "17  5.000000e+00   81.399734   36.835618   82.841235   92.297297\n",
      "18  1.000000e+01   33.380753   28.658270   97.072908   68.609522\n",
      "19  2.000000e+01   17.303563   17.664004   72.988196   58.399334\n",
      "20  5.000000e+01    2.566675    0.638600   39.106481   17.900905\n",
      "21  1.000000e-20  100.000000  100.000000  100.000000  100.000000\n",
      "22  1.000000e+00   92.821898  135.874113   94.772738   82.954624\n",
      "23  2.000000e+00   87.015482   84.829026  104.488872   87.808880\n",
      "24  5.000000e+00   60.270515   60.871735   97.082847   96.138092\n",
      "25  1.000000e+01   38.202205   22.316525   98.391746   89.310238\n",
      "26  2.000000e+01   10.959045   10.696456   81.307771   55.111608\n",
      "27  5.000000e+01    5.201148    0.774275   26.766105   14.571410\n",
      "28  1.000000e-20  100.000000  100.000000  100.000000  100.000000\n",
      "29  1.000000e+00  103.704001  125.325779  113.137467  104.227593\n",
      "30  2.000000e+00  106.682494   98.892133   90.013908  122.602398\n",
      "31  5.000000e+00   55.334079   53.390526  104.419686  116.503926\n",
      "32  1.000000e+01   17.108960   18.594032  101.961207   64.053207\n",
      "33  2.000000e+01    3.831749    3.984649   67.268899   32.598891\n",
      "34  5.000000e+01    1.065394    1.299771   23.037959    9.494626\n",
      "35  1.000000e-20  100.000000  100.000000  100.000000  100.000000\n",
      "36  1.000000e+00   75.278763   55.065954   62.532051   62.225651\n",
      "37  2.000000e+00   65.286897   65.227267   82.370880   81.746177\n",
      "38  5.000000e+00   34.706913   36.605201   96.345298   82.097478\n",
      "39  1.000000e+01   12.850374   17.227206   90.709338   46.010603\n",
      "40  2.000000e+01    2.730288    4.836061   55.169028   24.637312\n",
      "41  5.000000e+01    0.045426    0.159933   22.447580    7.480673\n"
     ]
    },
    {
     "name": "stderr",
     "output_type": "stream",
     "text": [
      "/usr/local/lib/python3.7/site-packages/ipykernel_launcher.py:12: UserWarning: Warning: Values above 100% are set to 100%!\n",
      "  if sys.path[0] == '':\n"
     ]
    },
    {
     "data": {
      "text/html": [
       "<div>\n",
       "<style scoped>\n",
       "    .dataframe tbody tr th:only-of-type {\n",
       "        vertical-align: middle;\n",
       "    }\n",
       "\n",
       "    .dataframe tbody tr th {\n",
       "        vertical-align: top;\n",
       "    }\n",
       "\n",
       "    .dataframe thead th {\n",
       "        text-align: right;\n",
       "    }\n",
       "</style>\n",
       "<table border=\"1\" class=\"dataframe\">\n",
       "  <thead>\n",
       "    <tr style=\"text-align: right;\">\n",
       "      <th></th>\n",
       "      <th>Conc</th>\n",
       "      <th>WB</th>\n",
       "      <th>C6NR</th>\n",
       "      <th>C60.5</th>\n",
       "      <th>C6aI</th>\n",
       "    </tr>\n",
       "  </thead>\n",
       "  <tbody>\n",
       "    <tr>\n",
       "      <th>0</th>\n",
       "      <td>1.000000e-20</td>\n",
       "      <td>100.000000</td>\n",
       "      <td>100.000000</td>\n",
       "      <td>100.000000</td>\n",
       "      <td>100.000000</td>\n",
       "    </tr>\n",
       "    <tr>\n",
       "      <th>1</th>\n",
       "      <td>1.000000e+00</td>\n",
       "      <td>99.251734</td>\n",
       "      <td>73.265998</td>\n",
       "      <td>100.000000</td>\n",
       "      <td>100.000000</td>\n",
       "    </tr>\n",
       "    <tr>\n",
       "      <th>2</th>\n",
       "      <td>2.000000e+00</td>\n",
       "      <td>98.088781</td>\n",
       "      <td>100.000000</td>\n",
       "      <td>100.000000</td>\n",
       "      <td>92.358653</td>\n",
       "    </tr>\n",
       "    <tr>\n",
       "      <th>3</th>\n",
       "      <td>5.000000e+00</td>\n",
       "      <td>60.134991</td>\n",
       "      <td>63.398714</td>\n",
       "      <td>100.000000</td>\n",
       "      <td>62.272727</td>\n",
       "    </tr>\n",
       "    <tr>\n",
       "      <th>4</th>\n",
       "      <td>1.000000e+01</td>\n",
       "      <td>21.216038</td>\n",
       "      <td>21.610210</td>\n",
       "      <td>100.000000</td>\n",
       "      <td>74.082861</td>\n",
       "    </tr>\n",
       "    <tr>\n",
       "      <th>5</th>\n",
       "      <td>2.000000e+01</td>\n",
       "      <td>3.528536</td>\n",
       "      <td>2.792801</td>\n",
       "      <td>71.973684</td>\n",
       "      <td>32.120720</td>\n",
       "    </tr>\n",
       "    <tr>\n",
       "      <th>6</th>\n",
       "      <td>5.000000e+01</td>\n",
       "      <td>0.654116</td>\n",
       "      <td>0.768783</td>\n",
       "      <td>24.205134</td>\n",
       "      <td>10.062029</td>\n",
       "    </tr>\n",
       "    <tr>\n",
       "      <th>7</th>\n",
       "      <td>1.000000e-20</td>\n",
       "      <td>100.000000</td>\n",
       "      <td>100.000000</td>\n",
       "      <td>100.000000</td>\n",
       "      <td>100.000000</td>\n",
       "    </tr>\n",
       "    <tr>\n",
       "      <th>8</th>\n",
       "      <td>1.000000e+00</td>\n",
       "      <td>94.196623</td>\n",
       "      <td>80.402156</td>\n",
       "      <td>100.000000</td>\n",
       "      <td>87.453542</td>\n",
       "    </tr>\n",
       "    <tr>\n",
       "      <th>9</th>\n",
       "      <td>2.000000e+00</td>\n",
       "      <td>81.274970</td>\n",
       "      <td>83.336694</td>\n",
       "      <td>100.000000</td>\n",
       "      <td>88.885762</td>\n",
       "    </tr>\n",
       "    <tr>\n",
       "      <th>10</th>\n",
       "      <td>5.000000e+00</td>\n",
       "      <td>52.438840</td>\n",
       "      <td>52.643669</td>\n",
       "      <td>99.808998</td>\n",
       "      <td>72.795806</td>\n",
       "    </tr>\n",
       "    <tr>\n",
       "      <th>11</th>\n",
       "      <td>1.000000e+01</td>\n",
       "      <td>21.069679</td>\n",
       "      <td>22.707327</td>\n",
       "      <td>100.000000</td>\n",
       "      <td>67.552605</td>\n",
       "    </tr>\n",
       "    <tr>\n",
       "      <th>12</th>\n",
       "      <td>2.000000e+01</td>\n",
       "      <td>3.581323</td>\n",
       "      <td>5.003678</td>\n",
       "      <td>57.254135</td>\n",
       "      <td>37.310370</td>\n",
       "    </tr>\n",
       "    <tr>\n",
       "      <th>13</th>\n",
       "      <td>5.000000e+01</td>\n",
       "      <td>0.443004</td>\n",
       "      <td>0.537308</td>\n",
       "      <td>20.331556</td>\n",
       "      <td>10.039436</td>\n",
       "    </tr>\n",
       "    <tr>\n",
       "      <th>14</th>\n",
       "      <td>1.000000e-20</td>\n",
       "      <td>100.000000</td>\n",
       "      <td>100.000000</td>\n",
       "      <td>100.000000</td>\n",
       "      <td>100.000000</td>\n",
       "    </tr>\n",
       "    <tr>\n",
       "      <th>15</th>\n",
       "      <td>1.000000e+00</td>\n",
       "      <td>75.127682</td>\n",
       "      <td>88.236924</td>\n",
       "      <td>85.292079</td>\n",
       "      <td>100.000000</td>\n",
       "    </tr>\n",
       "    <tr>\n",
       "      <th>16</th>\n",
       "      <td>2.000000e+00</td>\n",
       "      <td>78.782770</td>\n",
       "      <td>78.351825</td>\n",
       "      <td>87.716217</td>\n",
       "      <td>99.535156</td>\n",
       "    </tr>\n",
       "    <tr>\n",
       "      <th>17</th>\n",
       "      <td>5.000000e+00</td>\n",
       "      <td>81.399734</td>\n",
       "      <td>36.835618</td>\n",
       "      <td>82.841235</td>\n",
       "      <td>92.297297</td>\n",
       "    </tr>\n",
       "    <tr>\n",
       "      <th>18</th>\n",
       "      <td>1.000000e+01</td>\n",
       "      <td>33.380753</td>\n",
       "      <td>28.658270</td>\n",
       "      <td>97.072908</td>\n",
       "      <td>68.609522</td>\n",
       "    </tr>\n",
       "    <tr>\n",
       "      <th>19</th>\n",
       "      <td>2.000000e+01</td>\n",
       "      <td>17.303563</td>\n",
       "      <td>17.664004</td>\n",
       "      <td>72.988196</td>\n",
       "      <td>58.399334</td>\n",
       "    </tr>\n",
       "    <tr>\n",
       "      <th>20</th>\n",
       "      <td>5.000000e+01</td>\n",
       "      <td>2.566675</td>\n",
       "      <td>0.638600</td>\n",
       "      <td>39.106481</td>\n",
       "      <td>17.900905</td>\n",
       "    </tr>\n",
       "    <tr>\n",
       "      <th>21</th>\n",
       "      <td>1.000000e-20</td>\n",
       "      <td>100.000000</td>\n",
       "      <td>100.000000</td>\n",
       "      <td>100.000000</td>\n",
       "      <td>100.000000</td>\n",
       "    </tr>\n",
       "    <tr>\n",
       "      <th>22</th>\n",
       "      <td>1.000000e+00</td>\n",
       "      <td>92.821898</td>\n",
       "      <td>100.000000</td>\n",
       "      <td>94.772738</td>\n",
       "      <td>82.954624</td>\n",
       "    </tr>\n",
       "    <tr>\n",
       "      <th>23</th>\n",
       "      <td>2.000000e+00</td>\n",
       "      <td>87.015482</td>\n",
       "      <td>84.829026</td>\n",
       "      <td>100.000000</td>\n",
       "      <td>87.808880</td>\n",
       "    </tr>\n",
       "    <tr>\n",
       "      <th>24</th>\n",
       "      <td>5.000000e+00</td>\n",
       "      <td>60.270515</td>\n",
       "      <td>60.871735</td>\n",
       "      <td>97.082847</td>\n",
       "      <td>96.138092</td>\n",
       "    </tr>\n",
       "    <tr>\n",
       "      <th>25</th>\n",
       "      <td>1.000000e+01</td>\n",
       "      <td>38.202205</td>\n",
       "      <td>22.316525</td>\n",
       "      <td>98.391746</td>\n",
       "      <td>89.310238</td>\n",
       "    </tr>\n",
       "    <tr>\n",
       "      <th>26</th>\n",
       "      <td>2.000000e+01</td>\n",
       "      <td>10.959045</td>\n",
       "      <td>10.696456</td>\n",
       "      <td>81.307771</td>\n",
       "      <td>55.111608</td>\n",
       "    </tr>\n",
       "    <tr>\n",
       "      <th>27</th>\n",
       "      <td>5.000000e+01</td>\n",
       "      <td>5.201148</td>\n",
       "      <td>0.774275</td>\n",
       "      <td>26.766105</td>\n",
       "      <td>14.571410</td>\n",
       "    </tr>\n",
       "    <tr>\n",
       "      <th>28</th>\n",
       "      <td>1.000000e-20</td>\n",
       "      <td>100.000000</td>\n",
       "      <td>100.000000</td>\n",
       "      <td>100.000000</td>\n",
       "      <td>100.000000</td>\n",
       "    </tr>\n",
       "    <tr>\n",
       "      <th>29</th>\n",
       "      <td>1.000000e+00</td>\n",
       "      <td>100.000000</td>\n",
       "      <td>100.000000</td>\n",
       "      <td>100.000000</td>\n",
       "      <td>100.000000</td>\n",
       "    </tr>\n",
       "    <tr>\n",
       "      <th>30</th>\n",
       "      <td>2.000000e+00</td>\n",
       "      <td>100.000000</td>\n",
       "      <td>98.892133</td>\n",
       "      <td>90.013908</td>\n",
       "      <td>100.000000</td>\n",
       "    </tr>\n",
       "    <tr>\n",
       "      <th>31</th>\n",
       "      <td>5.000000e+00</td>\n",
       "      <td>55.334079</td>\n",
       "      <td>53.390526</td>\n",
       "      <td>100.000000</td>\n",
       "      <td>100.000000</td>\n",
       "    </tr>\n",
       "    <tr>\n",
       "      <th>32</th>\n",
       "      <td>1.000000e+01</td>\n",
       "      <td>17.108960</td>\n",
       "      <td>18.594032</td>\n",
       "      <td>100.000000</td>\n",
       "      <td>64.053207</td>\n",
       "    </tr>\n",
       "    <tr>\n",
       "      <th>33</th>\n",
       "      <td>2.000000e+01</td>\n",
       "      <td>3.831749</td>\n",
       "      <td>3.984649</td>\n",
       "      <td>67.268899</td>\n",
       "      <td>32.598891</td>\n",
       "    </tr>\n",
       "    <tr>\n",
       "      <th>34</th>\n",
       "      <td>5.000000e+01</td>\n",
       "      <td>1.065394</td>\n",
       "      <td>1.299771</td>\n",
       "      <td>23.037959</td>\n",
       "      <td>9.494626</td>\n",
       "    </tr>\n",
       "    <tr>\n",
       "      <th>35</th>\n",
       "      <td>1.000000e-20</td>\n",
       "      <td>100.000000</td>\n",
       "      <td>100.000000</td>\n",
       "      <td>100.000000</td>\n",
       "      <td>100.000000</td>\n",
       "    </tr>\n",
       "    <tr>\n",
       "      <th>36</th>\n",
       "      <td>1.000000e+00</td>\n",
       "      <td>75.278763</td>\n",
       "      <td>55.065954</td>\n",
       "      <td>62.532051</td>\n",
       "      <td>62.225651</td>\n",
       "    </tr>\n",
       "    <tr>\n",
       "      <th>37</th>\n",
       "      <td>2.000000e+00</td>\n",
       "      <td>65.286897</td>\n",
       "      <td>65.227267</td>\n",
       "      <td>82.370880</td>\n",
       "      <td>81.746177</td>\n",
       "    </tr>\n",
       "    <tr>\n",
       "      <th>38</th>\n",
       "      <td>5.000000e+00</td>\n",
       "      <td>34.706913</td>\n",
       "      <td>36.605201</td>\n",
       "      <td>96.345298</td>\n",
       "      <td>82.097478</td>\n",
       "    </tr>\n",
       "    <tr>\n",
       "      <th>39</th>\n",
       "      <td>1.000000e+01</td>\n",
       "      <td>12.850374</td>\n",
       "      <td>17.227206</td>\n",
       "      <td>90.709338</td>\n",
       "      <td>46.010603</td>\n",
       "    </tr>\n",
       "    <tr>\n",
       "      <th>40</th>\n",
       "      <td>2.000000e+01</td>\n",
       "      <td>2.730288</td>\n",
       "      <td>4.836061</td>\n",
       "      <td>55.169028</td>\n",
       "      <td>24.637312</td>\n",
       "    </tr>\n",
       "    <tr>\n",
       "      <th>41</th>\n",
       "      <td>5.000000e+01</td>\n",
       "      <td>0.045426</td>\n",
       "      <td>0.159933</td>\n",
       "      <td>22.447580</td>\n",
       "      <td>7.480673</td>\n",
       "    </tr>\n",
       "  </tbody>\n",
       "</table>\n",
       "</div>"
      ],
      "text/plain": [
       "            Conc          WB        C6NR       C60.5        C6aI\n",
       "0   1.000000e-20  100.000000  100.000000  100.000000  100.000000\n",
       "1   1.000000e+00   99.251734   73.265998  100.000000  100.000000\n",
       "2   2.000000e+00   98.088781  100.000000  100.000000   92.358653\n",
       "3   5.000000e+00   60.134991   63.398714  100.000000   62.272727\n",
       "4   1.000000e+01   21.216038   21.610210  100.000000   74.082861\n",
       "5   2.000000e+01    3.528536    2.792801   71.973684   32.120720\n",
       "6   5.000000e+01    0.654116    0.768783   24.205134   10.062029\n",
       "7   1.000000e-20  100.000000  100.000000  100.000000  100.000000\n",
       "8   1.000000e+00   94.196623   80.402156  100.000000   87.453542\n",
       "9   2.000000e+00   81.274970   83.336694  100.000000   88.885762\n",
       "10  5.000000e+00   52.438840   52.643669   99.808998   72.795806\n",
       "11  1.000000e+01   21.069679   22.707327  100.000000   67.552605\n",
       "12  2.000000e+01    3.581323    5.003678   57.254135   37.310370\n",
       "13  5.000000e+01    0.443004    0.537308   20.331556   10.039436\n",
       "14  1.000000e-20  100.000000  100.000000  100.000000  100.000000\n",
       "15  1.000000e+00   75.127682   88.236924   85.292079  100.000000\n",
       "16  2.000000e+00   78.782770   78.351825   87.716217   99.535156\n",
       "17  5.000000e+00   81.399734   36.835618   82.841235   92.297297\n",
       "18  1.000000e+01   33.380753   28.658270   97.072908   68.609522\n",
       "19  2.000000e+01   17.303563   17.664004   72.988196   58.399334\n",
       "20  5.000000e+01    2.566675    0.638600   39.106481   17.900905\n",
       "21  1.000000e-20  100.000000  100.000000  100.000000  100.000000\n",
       "22  1.000000e+00   92.821898  100.000000   94.772738   82.954624\n",
       "23  2.000000e+00   87.015482   84.829026  100.000000   87.808880\n",
       "24  5.000000e+00   60.270515   60.871735   97.082847   96.138092\n",
       "25  1.000000e+01   38.202205   22.316525   98.391746   89.310238\n",
       "26  2.000000e+01   10.959045   10.696456   81.307771   55.111608\n",
       "27  5.000000e+01    5.201148    0.774275   26.766105   14.571410\n",
       "28  1.000000e-20  100.000000  100.000000  100.000000  100.000000\n",
       "29  1.000000e+00  100.000000  100.000000  100.000000  100.000000\n",
       "30  2.000000e+00  100.000000   98.892133   90.013908  100.000000\n",
       "31  5.000000e+00   55.334079   53.390526  100.000000  100.000000\n",
       "32  1.000000e+01   17.108960   18.594032  100.000000   64.053207\n",
       "33  2.000000e+01    3.831749    3.984649   67.268899   32.598891\n",
       "34  5.000000e+01    1.065394    1.299771   23.037959    9.494626\n",
       "35  1.000000e-20  100.000000  100.000000  100.000000  100.000000\n",
       "36  1.000000e+00   75.278763   55.065954   62.532051   62.225651\n",
       "37  2.000000e+00   65.286897   65.227267   82.370880   81.746177\n",
       "38  5.000000e+00   34.706913   36.605201   96.345298   82.097478\n",
       "39  1.000000e+01   12.850374   17.227206   90.709338   46.010603\n",
       "40  2.000000e+01    2.730288    4.836061   55.169028   24.637312\n",
       "41  5.000000e+01    0.045426    0.159933   22.447580    7.480673"
      ]
     },
     "execution_count": 20,
     "metadata": {},
     "output_type": "execute_result"
    }
   ],
   "source": [
    "MTZ = pd.concat([dfa, dfb, dfc, dfd, dfe, dff], ignore_index=True, sort =False)\n",
    "\n",
    "print(MTZ)\n",
    "\n",
    "\n",
    "\n",
    "\n",
    "#Warning that below wells are adjusted in which the cells grew slower om just DMSO than with drug. \n",
    "#Those are assumed to be 100% since the drug had no clear influence here. \n",
    "#Make sure to double check the values comparing the first and second table\n",
    "import warnings\n",
    "warnings.warn(\"Warning: Values above 100% are set to 100%!\")\n",
    "\n",
    "\n",
    "# Adjusting for wells in which the mock grew slower than the cells with drug. \n",
    "a = MTZ[:]>100\n",
    "MTZ[a] = 100\n",
    "MTZ"
   ]
  },
  {
   "cell_type": "code",
   "execution_count": 73,
   "metadata": {},
   "outputs": [],
   "source": [
    "#Time to create a mean for all \n",
    "from statistics import mean\n",
    "#Create list of all values at one concentration per strain\n",
    "WB = dict()\n",
    "for i in range(0,7):\n",
    "    WB[i] = MTZ.iloc[i::7,1]\n",
    "#Calculate the mean for all. This can be used for plotting.\n",
    "WBm = dict()    \n",
    "for i in range(0,7):\n",
    "    WBm[i] = mean(WB[i])\n",
    "\n",
    "\n",
    "#mean(MTZ.iloc[1::7,1])\n",
    "#MTZ.iloc[1::7,1]\n",
    "\n",
    "\n"
   ]
  },
  {
   "cell_type": "code",
   "execution_count": 76,
   "metadata": {},
   "outputs": [
    {
     "ename": "ValueError",
     "evalue": "Location based indexing can only have [integer, integer slice (START point is INCLUDED, END point is EXCLUDED), listlike of integers, boolean array] types",
     "output_type": "error",
     "traceback": [
      "\u001b[0;31m---------------------------------------------------------------------------\u001b[0m",
      "\u001b[0;31mValueError\u001b[0m                                Traceback (most recent call last)",
      "\u001b[0;32m/usr/local/lib/python3.7/site-packages/pandas/core/indexing.py\u001b[0m in \u001b[0;36m_has_valid_tuple\u001b[0;34m(self, key)\u001b[0m\n\u001b[1;32m    702\u001b[0m             \u001b[0;32mtry\u001b[0m\u001b[0;34m:\u001b[0m\u001b[0;34m\u001b[0m\u001b[0;34m\u001b[0m\u001b[0m\n\u001b[0;32m--> 703\u001b[0;31m                 \u001b[0mself\u001b[0m\u001b[0;34m.\u001b[0m\u001b[0m_validate_key\u001b[0m\u001b[0;34m(\u001b[0m\u001b[0mk\u001b[0m\u001b[0;34m,\u001b[0m \u001b[0mi\u001b[0m\u001b[0;34m)\u001b[0m\u001b[0;34m\u001b[0m\u001b[0;34m\u001b[0m\u001b[0m\n\u001b[0m\u001b[1;32m    704\u001b[0m             \u001b[0;32mexcept\u001b[0m \u001b[0mValueError\u001b[0m\u001b[0;34m:\u001b[0m\u001b[0;34m\u001b[0m\u001b[0;34m\u001b[0m\u001b[0m\n",
      "\u001b[0;32m/usr/local/lib/python3.7/site-packages/pandas/core/indexing.py\u001b[0m in \u001b[0;36m_validate_key\u001b[0;34m(self, key, axis)\u001b[0m\n\u001b[1;32m   2010\u001b[0m         \u001b[0;32melse\u001b[0m\u001b[0;34m:\u001b[0m\u001b[0;34m\u001b[0m\u001b[0;34m\u001b[0m\u001b[0m\n\u001b[0;32m-> 2011\u001b[0;31m             \u001b[0;32mraise\u001b[0m \u001b[0mValueError\u001b[0m\u001b[0;34m(\u001b[0m\u001b[0;34mf\"Can only index by location with a [{self._valid_types}]\"\u001b[0m\u001b[0;34m)\u001b[0m\u001b[0;34m\u001b[0m\u001b[0;34m\u001b[0m\u001b[0m\n\u001b[0m\u001b[1;32m   2012\u001b[0m \u001b[0;34m\u001b[0m\u001b[0m\n",
      "\u001b[0;31mValueError\u001b[0m: Can only index by location with a [integer, integer slice (START point is INCLUDED, END point is EXCLUDED), listlike of integers, boolean array]",
      "\nDuring handling of the above exception, another exception occurred:\n",
      "\u001b[0;31mValueError\u001b[0m                                Traceback (most recent call last)",
      "\u001b[0;32m<ipython-input-76-ce3b7dc347b2>\u001b[0m in \u001b[0;36m<module>\u001b[0;34m\u001b[0m\n\u001b[1;32m      8\u001b[0m     \u001b[0mxm\u001b[0m \u001b[0;34m=\u001b[0m \u001b[0mdict\u001b[0m\u001b[0;34m(\u001b[0m\u001b[0;34m)\u001b[0m\u001b[0;34m\u001b[0m\u001b[0;34m\u001b[0m\u001b[0m\n\u001b[1;32m      9\u001b[0m     \u001b[0;32mfor\u001b[0m \u001b[0mi\u001b[0m \u001b[0;32min\u001b[0m \u001b[0mrange\u001b[0m\u001b[0;34m(\u001b[0m\u001b[0;36m0\u001b[0m\u001b[0;34m,\u001b[0m\u001b[0;36m7\u001b[0m\u001b[0;34m)\u001b[0m\u001b[0;34m:\u001b[0m\u001b[0;34m\u001b[0m\u001b[0;34m\u001b[0m\u001b[0m\n\u001b[0;32m---> 10\u001b[0;31m         \u001b[0mxm\u001b[0m\u001b[0;34m[\u001b[0m\u001b[0mi\u001b[0m\u001b[0;34m]\u001b[0m \u001b[0;34m=\u001b[0m \u001b[0mmean\u001b[0m\u001b[0;34m(\u001b[0m\u001b[0mMTZ\u001b[0m\u001b[0;34m.\u001b[0m\u001b[0miloc\u001b[0m\u001b[0;34m[\u001b[0m\u001b[0mi\u001b[0m\u001b[0;34m:\u001b[0m\u001b[0;34m:\u001b[0m\u001b[0;36m7\u001b[0m\u001b[0;34m,\u001b[0m\u001b[0mx\u001b[0m\u001b[0;34m]\u001b[0m\u001b[0;34m)\u001b[0m\u001b[0;34m\u001b[0m\u001b[0;34m\u001b[0m\u001b[0m\n\u001b[0m",
      "\u001b[0;32m/usr/local/lib/python3.7/site-packages/pandas/core/indexing.py\u001b[0m in \u001b[0;36m__getitem__\u001b[0;34m(self, key)\u001b[0m\n\u001b[1;32m   1760\u001b[0m                 \u001b[0;32mexcept\u001b[0m \u001b[0;34m(\u001b[0m\u001b[0mKeyError\u001b[0m\u001b[0;34m,\u001b[0m \u001b[0mIndexError\u001b[0m\u001b[0;34m,\u001b[0m \u001b[0mAttributeError\u001b[0m\u001b[0;34m)\u001b[0m\u001b[0;34m:\u001b[0m\u001b[0;34m\u001b[0m\u001b[0;34m\u001b[0m\u001b[0m\n\u001b[1;32m   1761\u001b[0m                     \u001b[0;32mpass\u001b[0m\u001b[0;34m\u001b[0m\u001b[0;34m\u001b[0m\u001b[0m\n\u001b[0;32m-> 1762\u001b[0;31m             \u001b[0;32mreturn\u001b[0m \u001b[0mself\u001b[0m\u001b[0;34m.\u001b[0m\u001b[0m_getitem_tuple\u001b[0m\u001b[0;34m(\u001b[0m\u001b[0mkey\u001b[0m\u001b[0;34m)\u001b[0m\u001b[0;34m\u001b[0m\u001b[0;34m\u001b[0m\u001b[0m\n\u001b[0m\u001b[1;32m   1763\u001b[0m         \u001b[0;32melse\u001b[0m\u001b[0;34m:\u001b[0m\u001b[0;34m\u001b[0m\u001b[0;34m\u001b[0m\u001b[0m\n\u001b[1;32m   1764\u001b[0m             \u001b[0;31m# we by definition only have the 0th axis\u001b[0m\u001b[0;34m\u001b[0m\u001b[0;34m\u001b[0m\u001b[0;34m\u001b[0m\u001b[0m\n",
      "\u001b[0;32m/usr/local/lib/python3.7/site-packages/pandas/core/indexing.py\u001b[0m in \u001b[0;36m_getitem_tuple\u001b[0;34m(self, tup)\u001b[0m\n\u001b[1;32m   2065\u001b[0m     \u001b[0;32mdef\u001b[0m \u001b[0m_getitem_tuple\u001b[0m\u001b[0;34m(\u001b[0m\u001b[0mself\u001b[0m\u001b[0;34m,\u001b[0m \u001b[0mtup\u001b[0m\u001b[0;34m:\u001b[0m \u001b[0mTuple\u001b[0m\u001b[0;34m)\u001b[0m\u001b[0;34m:\u001b[0m\u001b[0;34m\u001b[0m\u001b[0;34m\u001b[0m\u001b[0m\n\u001b[1;32m   2066\u001b[0m \u001b[0;34m\u001b[0m\u001b[0m\n\u001b[0;32m-> 2067\u001b[0;31m         \u001b[0mself\u001b[0m\u001b[0;34m.\u001b[0m\u001b[0m_has_valid_tuple\u001b[0m\u001b[0;34m(\u001b[0m\u001b[0mtup\u001b[0m\u001b[0;34m)\u001b[0m\u001b[0;34m\u001b[0m\u001b[0;34m\u001b[0m\u001b[0m\n\u001b[0m\u001b[1;32m   2068\u001b[0m         \u001b[0;32mtry\u001b[0m\u001b[0;34m:\u001b[0m\u001b[0;34m\u001b[0m\u001b[0;34m\u001b[0m\u001b[0m\n\u001b[1;32m   2069\u001b[0m             \u001b[0;32mreturn\u001b[0m \u001b[0mself\u001b[0m\u001b[0;34m.\u001b[0m\u001b[0m_getitem_lowerdim\u001b[0m\u001b[0;34m(\u001b[0m\u001b[0mtup\u001b[0m\u001b[0;34m)\u001b[0m\u001b[0;34m\u001b[0m\u001b[0;34m\u001b[0m\u001b[0m\n",
      "\u001b[0;32m/usr/local/lib/python3.7/site-packages/pandas/core/indexing.py\u001b[0m in \u001b[0;36m_has_valid_tuple\u001b[0;34m(self, key)\u001b[0m\n\u001b[1;32m    704\u001b[0m             \u001b[0;32mexcept\u001b[0m \u001b[0mValueError\u001b[0m\u001b[0;34m:\u001b[0m\u001b[0;34m\u001b[0m\u001b[0;34m\u001b[0m\u001b[0m\n\u001b[1;32m    705\u001b[0m                 raise ValueError(\n\u001b[0;32m--> 706\u001b[0;31m                     \u001b[0;34m\"Location based indexing can only have \"\u001b[0m\u001b[0;34m\u001b[0m\u001b[0;34m\u001b[0m\u001b[0m\n\u001b[0m\u001b[1;32m    707\u001b[0m                     \u001b[0;34mf\"[{self._valid_types}] types\"\u001b[0m\u001b[0;34m\u001b[0m\u001b[0;34m\u001b[0m\u001b[0m\n\u001b[1;32m    708\u001b[0m                 )\n",
      "\u001b[0;31mValueError\u001b[0m: Location based indexing can only have [integer, integer slice (START point is INCLUDED, END point is EXCLUDED), listlike of integers, boolean array] types"
     ]
    }
   ],
   "source": []
  },
  {
   "cell_type": "code",
   "execution_count": 34,
   "metadata": {},
   "outputs": [
    {
     "data": {
      "text/plain": [
       "<function matplotlib.pyplot.show(*args, **kw)>"
      ]
     },
     "execution_count": 34,
     "metadata": {},
     "output_type": "execute_result"
    },
    {
     "data": {
      "image/png": "[encoded data removed]",
      "text/plain": [
       "<Figure size 432x288 with 1 Axes>"
      ]
     },
     "metadata": {
      "needs_background": "light"
     },
     "output_type": "display_data"
    }
   ],
   "source": [
    "#A simple fast plot to check if the curve is looking funny. However need to involve some statistics first now that\n",
    "#we have several data points.\n",
    "#Lets see how I can solve that after lunch.\n",
    "import matplotlib.pyplot as plt\n",
    "\n",
    "x = np.array(MTZ[\"Conc\"])\n",
    "y = np.array(MTZ[\"WB\"])\n",
    "a = np.array(MTZ[\"C6NR\"])\n",
    "b = np.array(MTZ[\"C60.5\"])\n",
    "c = np.array(MTZ[\"C6aI\"])\n",
    "\n",
    "\n",
    "plt.plot(x, y, 'o', color='red')\n",
    "plt.plot(x, a, 'o', color='blue')\n",
    "plt.plot(x, b, 'o', color='green')\n",
    "plt.plot(x, c, 'o', color='black')\n",
    "plt.plot(x,y, color='red')\n",
    "plt.plot(x,a, color='blue')\n",
    "plt.plot(x,b, color='green')\n",
    "plt.plot(x,c, color='black')\n",
    "plt.show"
   ]
  },
  {
   "cell_type": "code",
   "execution_count": 14,
   "metadata": {},
   "outputs": [
    {
     "data": {
      "text/plain": [
       "<function matplotlib.pyplot.show(*args, **kw)>"
      ]
     },
     "execution_count": 14,
     "metadata": {},
     "output_type": "execute_result"
    },
    {
     "data": {
      "image/png": "[encoded data removed]",
      "text/plain": [
       "<Figure size 432x288 with 1 Axes>"
      ]
     },
     "metadata": {
      "needs_background": "light"
     },
     "output_type": "display_data"
    }
   ],
   "source": [
    "#In this part I automate the selection of the linear part of the curve when looked at in logarithmic scale\n",
    "#The first step is to select all points from and including the last point that is 100%\n",
    "#For this I create two new data frames per strain\n",
    "WB_a  = MTZ_1[\"WB\"]   \n",
    "Conc_WB = MTZ_1[\"Conc\"]\n",
    "#I filter for all that are smaller than 99%\n",
    "WB_aH = WB_a <99\n",
    "#and ask for the length of that element\n",
    "WB_aH = WB_a[WB_aH]\n",
    "len(WB_aH)\n",
    "\n",
    "#In the last step I give the total length minus the length of that element plus the data point exactly before to catch\n",
    "#the last point of 100%\n",
    "#I than use the same approach plus 3 to make sure I get the last point of 100% plus three more.\n",
    "WB_x = Conc_WB[(7-(len(WB_aH)+1)):(7-len(WB_aH)+3)]\n",
    "WB_y = WB_a[(7-(len(WB_aH)+1)):(7-len(WB_aH)+3)]\n",
    "\n",
    "#fig, ax = plt.subplots()\n",
    "#ax.set_yscale('log')\n",
    "plt.plot(WB_x,WB_y)\n",
    "plt.show"
   ]
  },
  {
   "cell_type": "code",
   "execution_count": 15,
   "metadata": {},
   "outputs": [
    {
     "data": {
      "text/plain": [
       "5.3266"
      ]
     },
     "execution_count": 15,
     "metadata": {},
     "output_type": "execute_result"
    }
   ],
   "source": [
    "#Now I can use the created lists to fit them to an equation\n",
    "fWB = np.polyfit(WB_x, np.log(WB_y), 1)\n",
    "#Solve the equation\n",
    "sWB = (np.log(50)-fWB[1])/fWB[0]\n",
    "sWB = round(sWB, 5)\n",
    "sWB #Fixed it by some pen and paper work with the equation.lel"
   ]
  },
  {
   "cell_type": "code",
   "execution_count": 16,
   "metadata": {},
   "outputs": [
    {
     "data": {
      "text/plain": [
       "<function matplotlib.pyplot.show(*args, **kw)>"
      ]
     },
     "execution_count": 16,
     "metadata": {},
     "output_type": "execute_result"
    },
    {
     "data": {
      "image/png": "[encoded data removed]",
      "text/plain": [
       "<Figure size 432x288 with 1 Axes>"
      ]
     },
     "metadata": {
      "needs_background": "light"
     },
     "output_type": "display_data"
    }
   ],
   "source": [
    "#Strain 2\n",
    "C6NR_a  = MTZ_1[\"C6NR\"]   \n",
    "Conc_C6NR = MTZ_1[\"Conc\"]\n",
    "#I filter for all that are smaller than 99%\n",
    "C6NR_aH = C6NR_a <97   #This is adjust since there is a 98% element.\n",
    "\n",
    "C6NR_aH = C6NR_a[C6NR_aH]\n",
    "len(C6NR_aH)\n",
    "\n",
    "C6NR_x = Conc_C6NR[(7-(len(C6NR_aH)+1)):(7-len(C6NR_aH)+3)]\n",
    "C6NR_y = C6NR_a[(7-(len(C6NR_aH)+1)):(7-len(C6NR_aH)+3)]\n",
    "\n",
    "fig, ax = plt.subplots()\n",
    "ax.set_yscale('log')\n",
    "plt.plot(C6NR_x,C6NR_y)\n",
    "plt.show"
   ]
  },
  {
   "cell_type": "code",
   "execution_count": 17,
   "metadata": {},
   "outputs": [
    {
     "data": {
      "text/plain": [
       "5.34817"
      ]
     },
     "execution_count": 17,
     "metadata": {},
     "output_type": "execute_result"
    }
   ],
   "source": [
    "#Now I can use the created lists to fit them to an equation\n",
    "fC6NR = np.polyfit(C6NR_x, np.log(C6NR_y), 1)\n",
    "#Solve the equation\n",
    "sC6NR = (np.log(50)-fC6NR[1])/fC6NR[0]\n",
    "sC6NR = round(sC6NR, 5)\n",
    "sC6NR"
   ]
  },
  {
   "cell_type": "code",
   "execution_count": 18,
   "metadata": {},
   "outputs": [
    {
     "data": {
      "text/plain": [
       "<function matplotlib.pyplot.show(*args, **kw)>"
      ]
     },
     "execution_count": 18,
     "metadata": {},
     "output_type": "execute_result"
    },
    {
     "data": {
      "image/png": "[encoded data removed]",
      "text/plain": [
       "<Figure size 432x288 with 1 Axes>"
      ]
     },
     "metadata": {
      "needs_background": "light"
     },
     "output_type": "display_data"
    }
   ],
   "source": [
    "#Strain 3\n",
    "C605_a  = MTZ_1[\"C605\"]   \n",
    "Conc_C605 = MTZ_1[\"Conc\"]\n",
    "#I filter for all that are smaller than 99%\n",
    "C605_aH = C605_a <90   #This is adjust since there is a 91% element in the middle.\n",
    "\n",
    "C605_aH = C605_a[C605_aH]\n",
    "len(C605_aH)\n",
    "\n",
    "\n",
    "C605_x = Conc_C605[(7-(len(C605_aH)+1)):(7-len(C605_aH)+3)]\n",
    "C605_y = C605_a[(7-(len(C605_aH)+1)):(7-len(C605_aH)+3)]\n",
    "\n",
    "fig, ax = plt.subplots()\n",
    "ax.set_yscale('log')\n",
    "plt.plot(C605_x,C605_y)\n",
    "plt.show"
   ]
  },
  {
   "cell_type": "code",
   "execution_count": 19,
   "metadata": {},
   "outputs": [
    {
     "data": {
      "text/plain": [
       "28.63101"
      ]
     },
     "execution_count": 19,
     "metadata": {},
     "output_type": "execute_result"
    }
   ],
   "source": [
    "#Now I can use the created lists to fit them to an equation\n",
    "fC605 = np.polyfit(C605_x, np.log(C605_y), 1)\n",
    "#Solve the equation\n",
    "sC605 = (np.log(50)-fC605[1])/fC605[0]\n",
    "sC605 = round(sC605, 5)\n",
    "sC605 "
   ]
  },
  {
   "cell_type": "code",
   "execution_count": 20,
   "metadata": {},
   "outputs": [
    {
     "data": {
      "text/plain": [
       "<function matplotlib.pyplot.show(*args, **kw)>"
      ]
     },
     "execution_count": 20,
     "metadata": {},
     "output_type": "execute_result"
    },
    {
     "data": {
      "image/png": "[encoded data removed]",
      "text/plain": [
       "<Figure size 432x288 with 1 Axes>"
      ]
     },
     "metadata": {
      "needs_background": "light"
     },
     "output_type": "display_data"
    }
   ],
   "source": [
    "#Strain 4\n",
    "C6aI_a  = MTZ_1[\"C6aI\"]   \n",
    "Conc_C6aI = MTZ_1[\"Conc\"]\n",
    "#I filter for all that are smaller than 99%\n",
    "C6aI_aH = C6aI_a <99\n",
    "#and ask for the length of that element\n",
    "C6aI_aH = C6aI_a[C6aI_aH]\n",
    "len(C6aI_aH)\n",
    "\n",
    "#In the last step I give the total length minus the length of that element plus the data point exactly before to catch\n",
    "#the last point of 100%\n",
    "#I than use the same approach plus 3 to make sure I get the last point of 100% plus three more.\n",
    "C6aI_x = Conc_C6aI[(7-(len(C6aI_aH)+1)):(7-len(C6aI_aH)+3)]\n",
    "C6aI_y = C6aI_a[(7-(len(C6aI_aH)+1)):(7-len(C6aI_aH)+3)]\n",
    "\n",
    "fig, ax = plt.subplots()\n",
    "ax.set_yscale('log')\n",
    "plt.plot(C6aI_x,C6aI_y)\n",
    "plt.show"
   ]
  },
  {
   "cell_type": "code",
   "execution_count": 21,
   "metadata": {},
   "outputs": [
    {
     "data": {
      "text/plain": [
       "15.54086"
      ]
     },
     "execution_count": 21,
     "metadata": {},
     "output_type": "execute_result"
    }
   ],
   "source": [
    "#Now I can use the created lists to fit them to an equation\n",
    "fC6aI = np.polyfit(C6aI_x, np.log(C6aI_y), 1)\n",
    "#Solve the equation\n",
    "sC6aI = (np.log(50)-fC6aI[1])/fC6aI[0]\n",
    "sC6aI = round(sC6aI, 5)\n",
    "sC6aI"
   ]
  },
  {
   "cell_type": "code",
   "execution_count": 22,
   "metadata": {},
   "outputs": [],
   "source": [
    "#Below serveral approaches on how to export the table from this script. \n",
    "df1 = pd.DataFrame([sWB, sC6NR, sC605, sC6aI])\n",
    "df1 = df1.T\n",
    "df1.columns = ['WB', 'C6NR', 'C605', 'C6aI']\n",
    "df1.index = ['MTZ']\n",
    "df1.index.names = ['Drug']\n",
    "df1.columns.names = ['Strain']\n",
    "\n",
    "#Define here the name of today just to make it more clear for the reader\n",
    "IC50MTZ_12_9_19_1 = df1\n",
    "\n",
    "#Write it to a csv\n",
    "IC50MTZ_12_9_19_1.to_csv('IC50MTZ_12_9_19_1.csv')\n",
    "\n",
    "#And to a html(more handy for bigger tables or images)\n",
    "IC50MTZ_12_9_19_1.to_html('IC50MTZ_12_9_19_1.html')"
   ]
  },
  {
   "cell_type": "code",
   "execution_count": 23,
   "metadata": {},
   "outputs": [
    {
     "name": "stdout",
     "output_type": "stream",
     "text": [
      "| Drug   |     WB |    C6NR |   C605 |    C6aI |\n",
      "|:-------|-------:|--------:|-------:|--------:|\n",
      "| MTZ    | 5.3266 | 5.34817 | 28.631 | 15.5409 |\n"
     ]
    }
   ],
   "source": [
    "#Here a way to bring it into markdown friendly format, this can than be used in a markdown cell.\n",
    "print(IC50MTZ_12_9_19_1.to_markdown())"
   ]
  },
  {
   "cell_type": "markdown",
   "metadata": {},
   "source": [
    "Like in this markdown cell:\n",
    "\n",
    "| Drug   |     WB |    C6NR |   C605 |    C6aI |\n",
    "|:-------|-------:|--------:|-------:|--------:|\n",
    "| MTZ    | 5.3266 | 5.34817 | 28.631 | 15.5409 |"
   ]
  },
  {
   "cell_type": "code",
   "execution_count": 29,
   "metadata": {},
   "outputs": [
    {
     "data": {
      "image/png": "[encoded data removed]",
      "text/plain": [
       "<Figure size 864x288 with 1 Axes>"
      ]
     },
     "metadata": {
      "needs_background": "light"
     },
     "output_type": "display_data"
    }
   ],
   "source": [
    "#This converts a table into a pdf, e.g. for publishing.\n",
    "from matplotlib.backends.backend_pdf import PdfPages\n",
    "\n",
    "\n",
    "#https://stackoverflow.com/questions/32137396/how-do-i-plot-only-a-table-in-matplotlib\n",
    "fig, ax =plt.subplots(figsize=(12,4))\n",
    "ax.axis('tight')\n",
    "ax.axis('off')\n",
    "the_table = ax.table(cellText = df1.values, cellLoc = 'center',rowLabels = df1.index, colLabels = df1.columns, loc = 'center')\n",
    "\n",
    "#https://stackoverflow.com/questions/4042192/reduce-left-and-right-margins-in-matplotlib-plot\n",
    "pp = PdfPages(\"IC50MTZ_12_9_19_1.pdf\")\n",
    "pp.savefig(fig, bbox_inches='tight')\n",
    "pp.close()"
   ]
  }
 ],
 "metadata": {
  "kernelspec": {
   "display_name": "Python 3",
   "language": "python",
   "name": "python3"
  },
  "language_info": {
   "codemirror_mode": {
    "name": "ipython",
    "version": 3
   },
   "file_extension": ".py",
   "mimetype": "text/x-python",
   "name": "python",
   "nbconvert_exporter": "python",
   "pygments_lexer": "ipython3",
   "version": "3.7.7"
  }
 },
 "nbformat": 4,
 "nbformat_minor": 4
}
